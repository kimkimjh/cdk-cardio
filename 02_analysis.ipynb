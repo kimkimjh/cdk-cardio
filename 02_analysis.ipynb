{
 "cells": [
  {
   "cell_type": "code",
   "execution_count": null,
   "id": "794df6bb",
   "metadata": {},
   "outputs": [],
   "source": [
    "import pandas as pd\n",
    "import numpy as np\n",
    "import pickle\n",
    "from tqdm import tqdm\n",
    "import sys\n",
    "import matplotlib.pyplot as plt\n",
    "import seaborn as sns"
   ]
  },
  {
   "cell_type": "code",
   "execution_count": null,
   "id": "255b369c",
   "metadata": {},
   "outputs": [],
   "source": [
    "demo = pd.read_csv('./clean_step1_demo.csv.gz',low_memory=False)\n",
    "drug = pd.read_csv('./clean_step1_drug.csv.gz',low_memory=False)\n",
    "indi = pd.read_csv('./clean_step1_indi.csv.gz',low_memory=False)\n",
    "outc = pd.read_csv('./clean_step1_outc.csv.gz',low_memory=False)\n",
    "reac = pd.read_csv('./clean_step1_reac.csv.gz',low_memory=False)\n",
    "rpsr = pd.read_csv('./clean_step1_rpsr.csv.gz',low_memory=False)\n",
    "ther = pd.read_csv('./clean_step1_ther.csv.gz',low_memory=False)"
   ]
  },
  {
   "cell_type": "code",
   "execution_count": null,
   "id": "3618f369",
   "metadata": {},
   "outputs": [],
   "source": [
    "print(demo['caseid'].nunique())\n",
    "print(drug['caseid'].nunique())\n",
    "print(reac['caseid'].nunique())\n",
    "print(outc['caseid'].nunique())"
   ]
  },
  {
   "cell_type": "markdown",
   "id": "eb8e91bc",
   "metadata": {},
   "source": [
    "## 1. start_dt & event_dt check"
   ]
  },
  {
   "cell_type": "markdown",
   "id": "0b342079",
   "metadata": {},
   "source": [
    "### 1-1. CDK4/6 inhibitors caseid/primaryid"
   ]
  },
  {
   "cell_type": "code",
   "execution_count": null,
   "id": "143a66f0",
   "metadata": {},
   "outputs": [],
   "source": [
    "drug_ps = drug.query('role_cod == \"PS\"').reset_index(drop=True)"
   ]
  },
  {
   "cell_type": "code",
   "execution_count": null,
   "id": "63de18e1",
   "metadata": {},
   "outputs": [],
   "source": [
    "temp = drug_ps[(drug_ps[\"drugname\"].str.contains(\"ribocicli\", na=False, case=False)) |\n",
    "                (drug_ps[\"drugname\"].str.contains(\"palbocicli\", na=False, case=False)) |\n",
    "                 (drug_ps[\"drugname\"].str.contains(\"abemacicli\", na=False, case=False)) |\n",
    "                 (drug_ps[\"drugname\"].str.contains(\"kisqali\", na=False, case=False)) |\n",
    "                 (drug_ps[\"drugname\"].str.contains(\"ibrance\", na=False, case=False)) |\n",
    "                 (drug_ps[\"drugname\"].str.contains(\"verzenio\", na=False, case=False)) |\n",
    "            (drug_ps[\"prod_ai\"].str.contains(\"ribocicli\", na=False, case=False)) |\n",
    "                 (drug_ps[\"prod_ai\"].str.contains(\"palbocicli\", na=False, case=False)) |\n",
    "            (drug_ps[\"prod_ai\"].str.contains(\"abemacicli\", na=False, case=False))]"
   ]
  },
  {
   "cell_type": "code",
   "execution_count": null,
   "id": "2ed9a147",
   "metadata": {},
   "outputs": [],
   "source": [
    "cdk_set = set(temp['caseid'])\n",
    "print('CDK4/6 inhibitor가 primary suspect인 report의 숫자: {}'.format(len(cdk_set)))"
   ]
  },
  {
   "cell_type": "code",
   "execution_count": null,
   "id": "81a65e28",
   "metadata": {},
   "outputs": [],
   "source": [
    "ribociclib_primaryid = set(drug_ps[(drug_ps[\"drugname\"].str.contains(\"ribocicli\", na=False, case=False)) |\n",
    "                (drug_ps[\"drugname\"].str.contains(\"kisqali\", na=False, case=False)) |\n",
    "                (drug_ps[\"prod_ai\"].str.contains(\"ribocicli\", na=False, case=False))]['primaryid'])\n",
    "palbociclib_primaryid = set(drug_ps[(drug_ps[\"drugname\"].str.contains(\"palbocicli\", na=False, case=False)) |\n",
    "                (drug_ps[\"drugname\"].str.contains(\"ibrance\", na=False, case=False)) |\n",
    "                (drug_ps[\"prod_ai\"].str.contains(\"palbocicli\", na=False, case=False))]['primaryid'])\n",
    "abemaciclib_primaryid = set(drug_ps[(drug_ps[\"drugname\"].str.contains(\"abemacicli\", na=False, case=False)) |\n",
    "                (drug_ps[\"drugname\"].str.contains(\"verzenio\", na=False, case=False)) |\n",
    "                (drug_ps[\"prod_ai\"].str.contains(\"abemacicli\", na=False, case=False))]['primaryid'])"
   ]
  },
  {
   "cell_type": "markdown",
   "id": "d68542c9",
   "metadata": {},
   "source": [
    "### 1-2. start_dt check"
   ]
  },
  {
   "cell_type": "code",
   "execution_count": null,
   "id": "430d8757",
   "metadata": {},
   "outputs": [],
   "source": [
    "# Quality check of the start_dt\n",
    "df_THER = ther.query('start_dt == start_dt').reset_index(drop=True)\n",
    "df_THER['start_dt'] = df_THER['start_dt'].astype(int).astype(str)\n",
    "df_THER['start_dt_len'] = df_THER['start_dt'].map(lambda x : len(str(x)))\n",
    "df_THER = df_THER.query('start_dt_len == 8').reset_index(drop=True) # YYYYMMDD format\n",
    "# Keep the first start_dt per dsg_drug_seq\n",
    "df_THER = (df_THER.sort_values(by=['primaryid','caseid','dsg_drug_seq','start_dt'],ascending=True)\n",
    "           .drop_duplicates(subset=['primaryid','caseid','dsg_drug_seq'],keep='first').reset_index(drop=True))"
   ]
  },
  {
   "cell_type": "code",
   "execution_count": null,
   "id": "8a3cceee",
   "metadata": {},
   "outputs": [],
   "source": [
    "df_DRUG = drug.query('caseid in @cdk_set').reset_index(drop=True)"
   ]
  },
  {
   "cell_type": "code",
   "execution_count": null,
   "id": "129e9c73",
   "metadata": {},
   "outputs": [],
   "source": [
    "df_DRUG_THER = pd.merge(df_DRUG,df_THER[['primaryid','dsg_drug_seq','start_dt','start_dt_len']]\n",
    "                       ,left_on=('primaryid','drug_seq')\n",
    "                       ,right_on=('primaryid','dsg_drug_seq')\n",
    "                       ,how='inner')"
   ]
  },
  {
   "cell_type": "code",
   "execution_count": null,
   "id": "75bafe7a",
   "metadata": {},
   "outputs": [],
   "source": [
    "print('The number of reports: {:,}'.format(df_DRUG_THER['primaryid'].nunique()))"
   ]
  },
  {
   "cell_type": "code",
   "execution_count": null,
   "id": "91020961",
   "metadata": {},
   "outputs": [],
   "source": [
    "# Drop ilogical start_dt (<1980 or >2024)\n",
    "df_DRUG_THER = df_DRUG_THER.loc[(df_DRUG_THER['start_dt'].str[:4].astype(int) >= 1980) & (df_DRUG_THER['start_dt'].str[:4].astype(int) <= 2024)].reset_index(drop=True)\n",
    "df_DRUG_THER = df_DRUG_THER.loc[(df_DRUG_THER['start_dt'].str[4:6].astype(int) <= 12)].reset_index(drop=True)\n",
    "print('The number of reports: {:,}'.format(df_DRUG_THER['primaryid'].nunique()))"
   ]
  },
  {
   "cell_type": "code",
   "execution_count": null,
   "id": "dfc06141",
   "metadata": {},
   "outputs": [],
   "source": [
    "cdk_ps_primaryid_to_start_dt_dict = df_DRUG_THER.query('role_cod == \"PS\" and drug_seq == 1').set_index('primaryid')['start_dt'].to_dict()\n",
    "pickle.dump(cdk_ps_primaryid_to_start_dt_dict,open('./cdk_ps_primaryid_to_start_dt_dict.pkl','wb'))\n",
    "print('The number of reports with valid start_dt: {:,}'.format(len(cdk_ps_primaryid_to_start_dt_dict)))\n"
   ]
  },
  {
   "cell_type": "code",
   "execution_count": null,
   "id": "c2882f9d",
   "metadata": {},
   "outputs": [],
   "source": [
    "demo_ps_cdk = demo.query('caseid in @cdk_set').reset_index(drop=True)"
   ]
  },
  {
   "cell_type": "code",
   "execution_count": null,
   "id": "32c3bea9",
   "metadata": {},
   "outputs": [],
   "source": [
    "demo_ps_cdk = demo_ps_cdk.query('event_dt == event_dt').reset_index(drop=True)\n",
    "demo_ps_cdk['event_dt'] = demo_ps_cdk['event_dt'].astype(int).astype(str)\n",
    "demo_ps_cdk['event_dt_len'] = demo_ps_cdk['event_dt'].map(lambda x : len(str(x)))\n",
    "demo_ps_cdk = demo_ps_cdk.query('event_dt_len == 8').reset_index(drop=True) # YYYYMMDD format"
   ]
  },
  {
   "cell_type": "code",
   "execution_count": null,
   "id": "b578a8e4",
   "metadata": {},
   "outputs": [],
   "source": [
    "cdk_ps_primaryid_to_event_dt_dict = demo_ps_cdk.set_index('primaryid')['event_dt'].to_dict()\n",
    "pickle.dump(cdk_ps_primaryid_to_event_dt_dict,open('./cdk_ps_primaryid_to_event_dt_dict.pkl','wb'))\n",
    "print('The number of reports with valid event_dt: {:,}'.format(len(cdk_ps_primaryid_to_event_dt_dict)))"
   ]
  },
  {
   "cell_type": "markdown",
   "id": "817a4dc0",
   "metadata": {},
   "source": [
    "## 2. Table 1: Characteristics"
   ]
  },
  {
   "cell_type": "code",
   "execution_count": null,
   "id": "6510dc98",
   "metadata": {},
   "outputs": [],
   "source": [
    "demo_cdk = demo.query('caseid in @cdk_set').reset_index(drop=True)"
   ]
  },
  {
   "cell_type": "code",
   "execution_count": null,
   "id": "d795ca79",
   "metadata": {},
   "outputs": [],
   "source": [
    "demo_cdk.loc[demo_cdk['primaryid'].isin(ribociclib_primaryid), 'drug'] = 'ribociclib'\n",
    "demo_cdk.loc[demo_cdk['primaryid'].isin(palbociclib_primaryid), 'drug'] = 'palbociclib'\n",
    "demo_cdk.loc[demo_cdk['primaryid'].isin(abemaciclib_primaryid), 'drug'] = 'abemaciclib'"
   ]
  },
  {
   "cell_type": "code",
   "execution_count": null,
   "id": "b838891f",
   "metadata": {},
   "outputs": [],
   "source": [
    "overall_counts = demo_cdk['reporter_country'].value_counts().head(4)\n",
    "overall_percentages = demo_cdk['reporter_country'].value_counts(normalize=True).head(4) * 100\n",
    "overall_results = pd.DataFrame({\n",
    "    'Count': overall_counts,\n",
    "    'Percentage': overall_percentages\n",
    "})\n",
    "\n",
    "by_drug_counts = demo_cdk.groupby('drug')['reporter_country'].value_counts().groupby(level=0).head(4)\n",
    "by_drug_percentages = demo_cdk.groupby('drug')['reporter_country'].value_counts(normalize=True).groupby(level=0).head(4) * 100\n",
    "by_drug_results = pd.DataFrame({\n",
    "    'Count': by_drug_counts,\n",
    "    'Percentage': by_drug_percentages\n",
    "})\n",
    "\n",
    "print(\"Top 4 Reported Countries Overall:\")\n",
    "print(overall_results)\n",
    "print(\"\\nTop 4 Reported Countries by Drug:\")\n",
    "print(by_drug_results)"
   ]
  },
  {
   "cell_type": "code",
   "execution_count": null,
   "id": "5b467d85",
   "metadata": {},
   "outputs": [],
   "source": [
    "demo_cdk['age_yr'].describe()"
   ]
  },
  {
   "cell_type": "code",
   "execution_count": null,
   "id": "ee8383ac",
   "metadata": {},
   "outputs": [],
   "source": [
    "demo_cdk.groupby('drug')['age_yr'].describe()"
   ]
  },
  {
   "cell_type": "code",
   "execution_count": null,
   "id": "a8fa0f49",
   "metadata": {},
   "outputs": [],
   "source": [
    "demo_cdk['sex'].value_counts(dropna=False)"
   ]
  },
  {
   "cell_type": "code",
   "execution_count": null,
   "id": "3708b481",
   "metadata": {},
   "outputs": [],
   "source": [
    "by_drug_counts = demo_cdk.groupby('drug')['sex'].value_counts().groupby(level=0).head()\n",
    "by_drug_percentages = demo_cdk.groupby('drug')['sex'].value_counts(normalize=True).groupby(level=0).head()*100\n",
    "by_drug_results = pd.DataFrame({'Count': by_drug_counts,'Percentage': by_drug_percentages})\n",
    "by_drug_results"
   ]
  },
  {
   "cell_type": "code",
   "execution_count": null,
   "id": "a036ab69",
   "metadata": {},
   "outputs": [],
   "source": [
    "demo_cdk['occp_cod'].value_counts(dropna=False)"
   ]
  },
  {
   "cell_type": "code",
   "execution_count": null,
   "id": "398422da",
   "metadata": {},
   "outputs": [],
   "source": [
    "by_drug_counts = demo_cdk.groupby('drug')['occp_cod'].value_counts().groupby(level=0).head()\n",
    "by_drug_percentages = demo_cdk.groupby('drug')['occp_cod'].value_counts(normalize=True).groupby(level=0).head()*100\n",
    "by_drug_results = pd.DataFrame({'Count': by_drug_counts,'Percentage': by_drug_percentages})\n",
    "by_drug_results"
   ]
  },
  {
   "cell_type": "code",
   "execution_count": null,
   "id": "6dd24452",
   "metadata": {},
   "outputs": [],
   "source": [
    "outc.query('caseid in @cdk_set')['outc_cod'].value_counts(dropna=False)"
   ]
  },
  {
   "cell_type": "code",
   "execution_count": null,
   "id": "9dec589a",
   "metadata": {},
   "outputs": [],
   "source": [
    "outc.query('primaryid in @abemaciclib_primaryid')['outc_cod'].value_counts()"
   ]
  },
  {
   "cell_type": "code",
   "execution_count": null,
   "id": "b764229a",
   "metadata": {},
   "outputs": [],
   "source": [
    "#datediff\n",
    "cdk_ps_primaryid_to_start_dt_dict = pickle.load(open('./cdk_ps_primaryid_to_start_dt_dict.pkl','rb'))\n",
    "cdk_ps_primaryid_to_event_dt_dict = pickle.load(open('./cdk_ps_primaryid_to_event_dt_dict.pkl','rb'))\n",
    "demo_cdk['valid_start_dt'] = demo_cdk['primaryid'].map(lambda x : cdk_ps_primaryid_to_start_dt_dict.get(x,float('nan')))\n",
    "demo_cdk['valid_event_dt'] = demo_cdk['primaryid'].map(lambda x : cdk_ps_primaryid_to_event_dt_dict.get(x,float('nan')))\n",
    "\n",
    "demo_cdk_datediff = demo_cdk.query('valid_start_dt == valid_start_dt and valid_event_dt == valid_event_dt').reset_index(drop=True)\n",
    "demo_cdk_datediff['datediff'] = (pd.to_datetime(demo_cdk_datediff['valid_event_dt']) - pd.to_datetime(demo_cdk_datediff['valid_start_dt'])) / np.timedelta64(1, 'D')\n",
    "demo_cdk_datediff['datediff'] = demo_cdk_datediff['datediff'].astype(int)\n"
   ]
  },
  {
   "cell_type": "code",
   "execution_count": null,
   "id": "f1f8d7bd",
   "metadata": {},
   "outputs": [],
   "source": [
    "print('Total number of PS_CDK reports: {}'.format(demo_cdk.shape[0]))\n",
    "print('PS_CDK reports with valid start & event date: {}'.format(demo_cdk_datediff.shape[0]))\n",
    "print('PS_CDK reports with minus datediff: {}'.format(demo_cdk_datediff.query('datediff < 0').shape[0]))\n",
    "print('PS_CDK reports with zero datediff: {}'.format(demo_cdk_datediff.query('datediff == 0').shape[0]))\n",
    "print('PS_CDK reports with valid datediff: {}'.format(demo_cdk_datediff.query('datediff >= 0').shape[0]))"
   ]
  },
  {
   "cell_type": "code",
   "execution_count": null,
   "id": "91f19cf8",
   "metadata": {},
   "outputs": [],
   "source": [
    "demo_cdk_datediff.query('datediff >= 0 ')['datediff'].describe()"
   ]
  },
  {
   "cell_type": "code",
   "execution_count": null,
   "id": "781c95e3",
   "metadata": {},
   "outputs": [],
   "source": [
    "demo_cdk_datediff.query('datediff >= 0 ').groupby('drug')['datediff'].describe()"
   ]
  },
  {
   "cell_type": "code",
   "execution_count": null,
   "id": "4dd7373e",
   "metadata": {},
   "outputs": [],
   "source": [
    "cdk_ps_primaryid_to_datediff_dict = demo_cdk_datediff.query('datediff >= 0').set_index('primaryid')['datediff'].to_dict()\n",
    "pickle.dump(cdk_ps_primaryid_to_datediff_dict,open('./cdk_ps_primaryid_to_datediff_dict.pkl','wb'))\n",
    "len(cdk_ps_primaryid_to_datediff_dict)"
   ]
  },
  {
   "cell_type": "markdown",
   "id": "c44653ff",
   "metadata": {},
   "source": [
    "## 3. Adverse event"
   ]
  },
  {
   "cell_type": "code",
   "execution_count": null,
   "id": "01bc1cab",
   "metadata": {},
   "outputs": [],
   "source": [
    "pt = pd.read_csv('./meddra_27/MedAscii/pt.asc',sep='$',header=None)\n",
    "pt = pt.iloc[:,:4]\n",
    "pt.columns = ['pt_code','pt_name','null_field','pt_soc_code']\n",
    "#pt.head(2)"
   ]
  },
  {
   "cell_type": "code",
   "execution_count": null,
   "id": "40d2be33",
   "metadata": {},
   "outputs": [],
   "source": [
    "soc = pd.read_csv('./meddra_27/MedAscii/soc.asc',sep='$',header=None)\n",
    "soc = soc.iloc[:,:2]\n",
    "soc.columns = ['soc_code','soc_name']\n",
    "#soc.head(2)"
   ]
  },
  {
   "cell_type": "code",
   "execution_count": null,
   "id": "ae0788f8",
   "metadata": {},
   "outputs": [],
   "source": [
    "#pt belongs to cardiac disorders\n",
    "cardiac_pt_list = set(pt.query('pt_soc_code == 10007541')['pt_name'])"
   ]
  },
  {
   "cell_type": "code",
   "execution_count": null,
   "id": "d318eaf8",
   "metadata": {},
   "outputs": [],
   "source": [
    "cardiac_reac_subset = reac.query('caseid in @cdk_set and pt in @cardiac_pt_list').reset_index(drop=True)"
   ]
  },
  {
   "cell_type": "code",
   "execution_count": null,
   "id": "724aea05",
   "metadata": {},
   "outputs": [],
   "source": [
    "cardiac_reac_subset.drop_duplicates(subset=['caseid','pt'],inplace=True)"
   ]
  },
  {
   "cell_type": "code",
   "execution_count": null,
   "id": "ed1b06a9",
   "metadata": {},
   "outputs": [],
   "source": [
    "print(cardiac_reac_subset['primaryid'].nunique())\n",
    "cardiac_reac_subset['pt'].value_counts()[:5]"
   ]
  },
  {
   "cell_type": "code",
   "execution_count": null,
   "id": "99ea8a03",
   "metadata": {},
   "outputs": [],
   "source": [
    "print(cardiac_reac_subset.query('primaryid in @palbociclib_primaryid')['primaryid'].nunique())\n",
    "cardiac_reac_subset.query('primaryid in @palbociclib_primaryid')['pt'].value_counts()[:5]"
   ]
  },
  {
   "cell_type": "code",
   "execution_count": null,
   "id": "91a555ca",
   "metadata": {},
   "outputs": [],
   "source": [
    "print(cardiac_reac_subset.query('primaryid in @ribociclib_primaryid')['primaryid'].nunique())\n",
    "cardiac_reac_subset.query('primaryid in @ribociclib_primaryid')['pt'].value_counts()[:5]"
   ]
  },
  {
   "cell_type": "code",
   "execution_count": null,
   "id": "bfb32aa3",
   "metadata": {},
   "outputs": [],
   "source": [
    "print(cardiac_reac_subset.query('primaryid in @abemaciclib_primaryid')['primaryid'].nunique())\n",
    "cardiac_reac_subset.query('primaryid in @abemaciclib_primaryid')['pt'].value_counts()[:5]"
   ]
  },
  {
   "cell_type": "markdown",
   "id": "0e2ad6b3",
   "metadata": {},
   "source": [
    "## 4. SMQ analysis"
   ]
  },
  {
   "cell_type": "markdown",
   "id": "b0270319",
   "metadata": {},
   "source": [
    "## SMQ\n",
    "    20000051\tArrhythmia related investigations, signs and symptoms (SMQ)\n",
    "    20000004\tCardiac failure (SMQ)\n",
    "    20000150\tCardiomyopathy (SMQ)\n",
    "    20000147\tHypertension (SMQ)\n",
    "    20000239\tNoninfectious myocarditis/pericarditis (SMQ)\n",
    "    20000001\tTorsade de pointes/QT prolongation (SMQ)\n",
    "    20000047    Myocardial infarction (SMQ)"
   ]
  },
  {
   "cell_type": "code",
   "execution_count": null,
   "id": "29604adf",
   "metadata": {},
   "outputs": [],
   "source": [
    "smq_content = pd.read_csv('./meddra_27/MedAscii/smq_content.asc',sep='$',header=None)\n",
    "smq_content = smq_content.iloc[:,:-1]\n",
    "smq_content.columns = ['smq_code','term_code','term_level','term_scope','term_category','term_weight','term_status','term_addition_ver','term_last_ver']"
   ]
  },
  {
   "cell_type": "code",
   "execution_count": null,
   "id": "5005ea49",
   "metadata": {},
   "outputs": [],
   "source": [
    "target_smq = 20000001\n",
    "event_code = smq_content.query('smq_code == @target_smq and term_level == 4 and term_scope == 2')['term_code'] #term_level = 4 means PT ; term_scope = 2 means narrow \n",
    "PT_QT = pt.query('pt_code in @event_code')['pt_name'].to_list()\n",
    "\n",
    "target_smq = 20000004\n",
    "event_code = smq_content.query('smq_code == @target_smq and term_level == 4 and term_scope == 2')['term_code'] #term_level = 4 means PT ; term_scope = 2 means narrow \n",
    "PT_HF = pt.query('pt_code in @event_code')['pt_name'].to_list()\n",
    "\n",
    "target_smq = 20000051\n",
    "event_code = smq_content.query('smq_code == @target_smq and term_level == 4 and term_scope == 2')['term_code'] #term_level = 4 means PT ; term_scope = 2 means narrow \n",
    "PT_ARR = pt.query('pt_code in @event_code')['pt_name'].to_list()\n",
    "\n",
    "target_smq = 20000147\n",
    "event_code = smq_content.query('smq_code == @target_smq and term_level == 4 and term_scope == 2')['term_code'] #term_level = 4 means PT ; term_scope = 2 means narrow \n",
    "PT_HTN = pt.query('pt_code in @event_code')['pt_name'].to_list()\n",
    "\n",
    "target_smq = 20000150\n",
    "event_code = smq_content.query('smq_code == @target_smq and term_level == 4 and term_scope == 2')['term_code'] #term_level = 4 means PT ; term_scope = 2 means narrow \n",
    "PT_CMP = pt.query('pt_code in @event_code')['pt_name'].to_list()\n",
    "\n",
    "target_smq = 20000239\n",
    "event_code = smq_content.query('smq_code == @target_smq and term_level == 4 and term_scope == 2')['term_code'] #term_level = 4 means PT ; term_scope = 2 means narrow \n",
    "PT_CARDITIS = pt.query('pt_code in @event_code')['pt_name'].to_list()\n",
    "\n",
    "target_smq = 20000047\n",
    "event_code = smq_content.query('smq_code == @target_smq and term_level == 4 and term_scope == 2')['term_code'] #term_level = 4 means PT ; term_scope = 2 means narrow \n",
    "PT_MI = pt.query('pt_code in @event_code')['pt_name'].to_list()"
   ]
  },
  {
   "cell_type": "code",
   "execution_count": null,
   "id": "69000f4f",
   "metadata": {},
   "outputs": [],
   "source": [
    "print(len(ribociclib_primaryid))\n",
    "print(len(palbociclib_primaryid))\n",
    "print(len(abemaciclib_primaryid))\n",
    "print(len(ribociclib_primaryid) + len(palbociclib_primaryid) + len(abemaciclib_primaryid))"
   ]
  },
  {
   "cell_type": "code",
   "execution_count": null,
   "id": "75252f9e",
   "metadata": {},
   "outputs": [],
   "source": [
    "drugs = {\n",
    "    'ribociclib': ribociclib_primaryid,\n",
    "    'palbociclib': palbociclib_primaryid,\n",
    "    'abemaciclib': abemaciclib_primaryid\n",
    "}\n",
    "outcomes = {\n",
    "    'QT': PT_QT, 'ARR':PT_ARR, 'HF':PT_HF, 'HTN':PT_HTN, 'CMP':PT_CMP, 'CARDITIS': PT_CARDITIS, 'MI': PT_MI\n",
    "}\n",
    "total_cases = demo['caseid'].nunique()\n",
    "results = []\n",
    "\n",
    "for drug, primaryids in drugs.items():\n",
    "    for outcome, pts in outcomes.items():\n",
    "        temp = reac.query('primaryid in @primaryids and pt in @pts')\n",
    "        a = len(set(temp['primaryid'])) #n11\n",
    "        b = len(primaryids) - a #n12\n",
    "        temp = reac.query('primaryid not in @primaryids and pt in @pts') \n",
    "        c = len(set(temp['primaryid'])) #n21\n",
    "        d = total_cases - a - b - c #n22\n",
    "        \n",
    "        results.append({\n",
    "            'a': a,\n",
    "            'b': b,\n",
    "            'c': c,\n",
    "            'd': d,\n",
    "            'drug': drug,\n",
    "            'outcome': outcome\n",
    "        })\n",
    "\n",
    "results_df = pd.DataFrame(results)"
   ]
  },
  {
   "cell_type": "code",
   "execution_count": null,
   "id": "496fb8a9",
   "metadata": {},
   "outputs": [],
   "source": [
    "def calculate_confidence_intervals(n11, n12, n21, n22):\n",
    "    \n",
    "    if n11 == 0:\n",
    "        return np.nan, np.nan, np.nan, np.nan, np.nan, np.nan\n",
    "    prr = (n11 / (n11 + n12)) / (n21 / (n21 + n22))\n",
    "    \n",
    "    \n",
    "    prr_se = np.sqrt((1/n11 - 1/(n11 + n12)) + (1/n21 - 1/(n21 + n22)))\n",
    "    prr_lower = np.exp(np.log(prr) - 1.96 * prr_se)\n",
    "    prr_upper = np.exp(np.log(prr) + 1.96 * prr_se)\n",
    "    \n",
    "    \n",
    "    ror = (n11 / n12) / (n21 / n22)\n",
    "    \n",
    "    \n",
    "    ror_se = np.sqrt(1/n11 + 1/n12 + 1/n21 + 1/n22)\n",
    "    ror_lower = np.exp(np.log(ror) - 1.96 * ror_se)\n",
    "    ror_upper = np.exp(np.log(ror) + 1.96 * ror_se)\n",
    "    \n",
    "    return prr, prr_lower, prr_upper, ror, ror_lower, ror_upper\n",
    "\n",
    "def calculate_row_metrics(row, n11_col, n12_col, n21_col, n22_col, drug_col, outcome_col):\n",
    "    n11 = row[n11_col]\n",
    "    n12 = row[n12_col]\n",
    "    n21 = row[n21_col]\n",
    "    n22 = row[n22_col]\n",
    "    \n",
    "    n10 = n11 + n12\n",
    "    n20 = n21 + n22\n",
    "    n01 = n11 + n21\n",
    "    n02 = n12 + n22\n",
    "    n = n11 + n12 + n21 + n22\n",
    "    \n",
    "    PRR, PRR_lower, PRR_upper, ROR, ROR_lower, ROR_upper = calculate_confidence_intervals(n11, n12, n21, n22)\n",
    "    \n",
    "    e11 = n10 * n01 / n\n",
    "    e12 = n10 * n02 / n\n",
    "    e21 = n20 * n01 / n\n",
    "    e22 = n20 * n02 / n\n",
    "    \n",
    "    chi_square = ((n11 - e11) ** 2 / e11 +\n",
    "                  (n12 - e12) ** 2 / e12 +\n",
    "                  (n21 - e21) ** 2 / e21 +\n",
    "                  (n22 - e22) ** 2 / e22)\n",
    "    \n",
    "    IC = (np.log(2) ** -1) * (np.log((1 + n11) / (4 + n)) -\n",
    "                              np.log((1 + n10) / (2 + n)) -\n",
    "                              np.log((1 + n01) / (2 + n)))\n",
    "    \n",
    "    VIC = (np.log(2) ** -2) * ((1 + n - n10) / ((1 + n10) * (3 + n)) +\n",
    "                               (1 + n - n01) / ((1 + n01) * (3 + n)) +\n",
    "                               (1 + n - n11) / ((1 + n11) * (5 + n)))\n",
    "    \n",
    "    SIC = np.sqrt(VIC)\n",
    "    IC025 = IC - 1.96 * SIC\n",
    "    \n",
    "    return pd.Series({\n",
    "        'drug': row[drug_col],\n",
    "        'outcome': row[outcome_col],\n",
    "        'n11': n11,\n",
    "        'n12': n12,\n",
    "        'n21': n21,\n",
    "        'n22': n22,\n",
    "        'PRR': PRR,\n",
    "        'PRR_lower': PRR_lower,\n",
    "        'PRR_upper': PRR_upper,\n",
    "        'ROR': ROR,\n",
    "        'ROR_lower': ROR_lower,\n",
    "        'ROR_upper': ROR_upper,\n",
    "        'chi_square': chi_square,\n",
    "        'IC': IC,\n",
    "        'VIC': VIC,\n",
    "        'IC025': IC025\n",
    "    })\n",
    "\n",
    "def calculate_metrics(df, n11_col, n12_col, n21_col, n22_col, drug_col, outcome_col):\n",
    "    return df.progress_apply(lambda row: calculate_row_metrics(row, n11_col, n12_col, n21_col, n22_col, drug_col, outcome_col), axis=1)\n",
    "\n"
   ]
  },
  {
   "cell_type": "code",
   "execution_count": null,
   "id": "30dfebc8",
   "metadata": {},
   "outputs": [],
   "source": [
    "tqdm.pandas()\n",
    "results_df_metrics = calculate_metrics(results_df, 'a', 'b', 'c', 'd', 'drug', 'outcome')"
   ]
  },
  {
   "cell_type": "code",
   "execution_count": null,
   "id": "a31d0861",
   "metadata": {},
   "outputs": [],
   "source": [
    "results_df_metrics"
   ]
  },
  {
   "cell_type": "code",
   "execution_count": null,
   "id": "b1949ae2",
   "metadata": {},
   "outputs": [],
   "source": [
    "#results_df_metrics.to_csv('./results_df_metrics.csv',index=False)"
   ]
  },
  {
   "cell_type": "markdown",
   "id": "62c7f1f5",
   "metadata": {},
   "source": [
    "## 5. Figure"
   ]
  },
  {
   "cell_type": "code",
   "execution_count": null,
   "id": "903f297f",
   "metadata": {},
   "outputs": [],
   "source": [
    "#QT_pid = set(reac.query('pt in @PT_QT')['primaryid'])\n",
    "MI_pid = set(reac.query('pt in @PT_MI')['primaryid'])\n",
    "HTN_pid = set(reac.query('pt in @PT_HTN')['primaryid'])\n",
    "HF_pid = set(reac.query('pt in @PT_HF')['primaryid'])"
   ]
  },
  {
   "cell_type": "code",
   "execution_count": null,
   "id": "b8fe8d2b",
   "metadata": {},
   "outputs": [],
   "source": [
    "#demo_cdk.loc[demo_cdk['primaryid'].isin(QT_pid), 'QT'] = 1\n",
    "demo_cdk.loc[demo_cdk['primaryid'].isin(MI_pid), 'MI'] = 1\n",
    "demo_cdk.loc[demo_cdk['primaryid'].isin(HTN_pid), 'HTN'] = 1\n",
    "demo_cdk.loc[demo_cdk['primaryid'].isin(HF_pid), 'HF'] = 1"
   ]
  },
  {
   "cell_type": "code",
   "execution_count": null,
   "id": "b56c87bf",
   "metadata": {},
   "outputs": [],
   "source": [
    "cdk_ps_primaryid_to_datediff_dict = pickle.load(open('./cdk_ps_primaryid_to_datediff_dict.pkl','rb'))\n",
    "demo_cdk['datediff'] = demo_cdk['primaryid'].map(lambda x : cdk_ps_primaryid_to_datediff_dict.get(x,float('nan')))"
   ]
  },
  {
   "cell_type": "code",
   "execution_count": null,
   "id": "fa861acb",
   "metadata": {},
   "outputs": [],
   "source": [
    "data = demo_cdk.query('datediff==datediff')[['primaryid','drug','datediff','MI','HTN','HF']]"
   ]
  },
  {
   "cell_type": "code",
   "execution_count": null,
   "id": "d8fb2059",
   "metadata": {},
   "outputs": [],
   "source": [
    "#qt_data = data[data['QT'] == 1]\n",
    "mi_data = data[data['MI'] == 1]\n",
    "htn_data = data[data['HTN'] == 1]\n",
    "hf_data = data[data['HF'] == 1]"
   ]
  },
  {
   "cell_type": "code",
   "execution_count": null,
   "id": "921cceb4",
   "metadata": {},
   "outputs": [],
   "source": [
    "# Create subplots\n",
    "fig, axes = plt.subplots(1, 3, figsize=(15, 5), sharey=True)\n",
    "sns.set_theme(style=\"ticks\")\n",
    "\n",
    "# Common settings for boxplots\n",
    "boxplot_kwargs = {\n",
    "    'showfliers': False,\n",
    "    'linewidth': 0.4,\n",
    "    'palette': {'lightgrey'},\n",
    "    'orient': 'h'\n",
    "}\n",
    "\n",
    "# Plot for MI\n",
    "sns.boxplot(ax=axes[0], y=\"drug\", x=\"datediff\", data=mi_data, **boxplot_kwargs)\n",
    "axes[0].set_title('Myocardial infarction', weight='bold')\n",
    "axes[0].set_xlabel('Time-to-event (days)', weight='bold')\n",
    "axes[0].set_ylabel('CDK4/6 inhibitors', weight='bold')\n",
    "\n",
    "# Plot for HTN\n",
    "sns.boxplot(ax=axes[1], y=\"drug\", x=\"datediff\", data=htn_data, **boxplot_kwargs)\n",
    "axes[1].set_title('Hypertension', weight='bold')\n",
    "axes[1].set_xlabel('Time-to-event (days)', weight='bold')\n",
    "axes[1].set_ylabel('')\n",
    "\n",
    "# Plot for HF\n",
    "sns.boxplot(ax=axes[2], y=\"drug\", x=\"datediff\", data=hf_data, **boxplot_kwargs)\n",
    "axes[2].set_title('Cardiac failure', weight='bold')\n",
    "axes[2].set_xlabel('Time-to-event (days)', weight='bold')\n",
    "axes[2].set_ylabel('')\n",
    "\n",
    "# Adjust the appearance of the plots\n",
    "for ax in axes:\n",
    "    for i, box in enumerate(ax.artists):\n",
    "        box.set_edgecolor('black')\n",
    "        box.set_facecolor('lightgrey')\n",
    "    for line in ax.lines:\n",
    "        line.set_color('black')\n",
    "        line.set_linewidth(1.0)\n",
    "    ax.grid(False)  # Remove gridlines\n",
    "    sns.despine(ax=ax, offset=0, trim=True)  # Remove spines\n",
    "\n",
    "plt.tight_layout(rect=[0, 0, 1, 0.95])\n",
    "plt.show()\n",
    "#fig.savefig('./fig2_median_tte_mi_htn_hf.png', bbox_inches='tight', dpi=300)\n",
    "#fig.savefig('./fig2_median_tte_mi_htn_hf.tiff', bbox_inches='tight', dpi=300)"
   ]
  },
  {
   "cell_type": "code",
   "execution_count": null,
   "id": "b4660063",
   "metadata": {},
   "outputs": [],
   "source": [
    "def calculate_statistics(data, group_by_col, value_col):\n",
    "    stats = data.groupby(group_by_col)[value_col].agg(['median', 'count', lambda x: x.quantile(0.25), lambda x: x.quantile(0.75)])\n",
    "    stats.columns = ['Median',  'No_of_Reports','Q1', 'Q3']\n",
    "    return stats\n",
    "\n",
    "# Calculate statistics for each drug and event\n",
    "mi_stats = calculate_statistics(mi_data, 'drug', 'datediff')\n",
    "htn_stats = calculate_statistics(htn_data, 'drug', 'datediff')\n",
    "hf_stats = calculate_statistics(hf_data, 'drug', 'datediff')\n",
    "\n",
    "# Combine the results into a single DataFrame\n",
    "stats_df = pd.concat([mi_stats, htn_stats, hf_stats], keys=['MI', 'HTN', 'HF']).reset_index(level=1).rename_axis('Event').reset_index()\n",
    "stats_df"
   ]
  },
  {
   "cell_type": "markdown",
   "id": "6cb152e2",
   "metadata": {},
   "source": [
    "## Supplementary table"
   ]
  },
  {
   "cell_type": "code",
   "execution_count": null,
   "id": "c78d2a3e",
   "metadata": {},
   "outputs": [],
   "source": [
    "target_list = [20000001, 20000004, 20000051, 20000147, 20000150, 20000239, 20000047]\n",
    "smq_selected = smq_content.query('smq_code in @target_list and term_level == 4 and term_scope == 2').reset_index(drop=True)"
   ]
  },
  {
   "cell_type": "code",
   "execution_count": null,
   "id": "59a14760",
   "metadata": {},
   "outputs": [],
   "source": [
    "supp_S1 = pd.merge(smq_selected[['smq_code','term_code']],pt[['pt_code','pt_name']], left_on = 'term_code', right_on = 'pt_code', how='inner')"
   ]
  },
  {
   "cell_type": "code",
   "execution_count": null,
   "id": "76813fd3",
   "metadata": {},
   "outputs": [],
   "source": [
    "supp_S1['smq_code'].value_counts()"
   ]
  },
  {
   "cell_type": "code",
   "execution_count": null,
   "id": "362ca7f4",
   "metadata": {},
   "outputs": [],
   "source": [
    "#add smq_name and sort\n",
    "#supp_S1.to_csv('./supplementary_S1.csv',index=False)"
   ]
  }
 ],
 "metadata": {
  "kernelspec": {
   "display_name": "Python 3 (ipykernel)",
   "language": "python",
   "name": "python3"
  },
  "language_info": {
   "codemirror_mode": {
    "name": "ipython",
    "version": 3
   },
   "file_extension": ".py",
   "mimetype": "text/x-python",
   "name": "python",
   "nbconvert_exporter": "python",
   "pygments_lexer": "ipython3",
   "version": "3.7.11"
  }
 },
 "nbformat": 4,
 "nbformat_minor": 5
}
