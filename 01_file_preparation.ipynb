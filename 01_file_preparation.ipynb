{
 "cells": [
  {
   "cell_type": "code",
   "execution_count": null,
   "id": "7a292f56",
   "metadata": {},
   "outputs": [],
   "source": [
    "import os\n",
    "import zipfile\n",
    "import pandas as pd\n",
    "import numpy as np\n",
    "import pickle\n",
    "from tqdm import tqdm"
   ]
  },
  {
   "cell_type": "markdown",
   "id": "1acdb6ff",
   "metadata": {},
   "source": [
    "## 1. Merge files "
   ]
  },
  {
   "cell_type": "code",
   "execution_count": null,
   "id": "727841b4",
   "metadata": {},
   "outputs": [],
   "source": [
    "zip_folder = './data'\n",
    "zip_files = [f for f in os.listdir(zip_folder) if f.endswith('.zip')]\n",
    "\n",
    "data_frames = {\n",
    "    'DRUG': [],\n",
    "    'DEMO': [],\n",
    "    'THER': [],\n",
    "    'REAC': [],\n",
    "    'OUTC': [],\n",
    "    'INDI': [],\n",
    "    'RPSR': []\n",
    "}\n",
    "\n",
    "file_records = {}\n",
    "\n",
    "for zip_file in tqdm(zip_files, desc='Processing zip files'):\n",
    "    with zipfile.ZipFile(os.path.join(zip_folder, zip_file), 'r') as zf:\n",
    "        \n",
    "        file_contents = {name.lower(): zf.open(name, 'r') for name in zf.namelist() if name.endswith('.txt')}\n",
    "\n",
    "        \n",
    "        for key in data_frames.keys():\n",
    "            relevant_files = [content for name, content in file_contents.items() if key.lower() in name]\n",
    "            if relevant_files:\n",
    "                \n",
    "                file_dfs = [pd.read_table(file, sep='$', low_memory=False, encoding='ISO-8859-1') for file in relevant_files]\n",
    "                data_frames[key].append(pd.concat(file_dfs))\n",
    "\n",
    "                \n",
    "                if key in file_records:\n",
    "                    file_records[key].extend([(file.name, len(df)) for file, df in zip(relevant_files, file_dfs)])\n",
    "                else:\n",
    "                    file_records[key] = [(file.name, len(df)) for file, df in zip(relevant_files, file_dfs)]\n",
    "\n",
    "        \n",
    "        for file in file_contents.values():\n",
    "            file.close()\n",
    "\n",
    "\n",
    "drug = pd.concat(data_frames['DRUG'], ignore_index=True)\n",
    "demo = pd.concat(data_frames['DEMO'], ignore_index=True)\n",
    "ther = pd.concat(data_frames['THER'], ignore_index=True)\n",
    "reac = pd.concat(data_frames['REAC'], ignore_index=True)\n",
    "outc = pd.concat(data_frames['OUTC'], ignore_index=True)\n",
    "indi = pd.concat(data_frames['INDI'], ignore_index=True)\n",
    "rpsr = pd.concat(data_frames['RPSR'], ignore_index=True)\n",
    "\n",
    "\n",
    "del data_frames"
   ]
  },
  {
   "cell_type": "code",
   "execution_count": null,
   "id": "0752e8f6",
   "metadata": {},
   "outputs": [],
   "source": [
    "table_data = []\n",
    "\n",
    "for key, records in file_records.items():\n",
    "    for file_name, record_count in records:\n",
    "        table_data.append([key, file_name, record_count])\n",
    "\n",
    "table = pd.DataFrame(table_data, columns=['group', 'filename', 'record'])\n",
    "#table.to_csv('./merge_statistics.csv',index=False)"
   ]
  },
  {
   "cell_type": "code",
   "execution_count": null,
   "id": "0e02bcc3",
   "metadata": {},
   "outputs": [],
   "source": [
    "summary_table = table.groupby('group')['record'].sum().reset_index()\n",
    "#summary_table"
   ]
  },
  {
   "cell_type": "markdown",
   "id": "58d93b5b",
   "metadata": {},
   "source": [
    "## Delete"
   ]
  },
  {
   "cell_type": "code",
   "execution_count": null,
   "id": "3d9b3528",
   "metadata": {},
   "outputs": [],
   "source": [
    "deleted_case_ids = []\n",
    "deleted_case_counts = {}\n",
    "\n",
    "for zip_file in tqdm(zip_files, desc='Processing ZIP files'):\n",
    "    with zipfile.ZipFile(os.path.join(zip_folder, zip_file), 'r') as zf:\n",
    "\n",
    "        folder_names = [name.lower() for name in zf.namelist() if name.endswith('/')]\n",
    "        if any('delete' in folder_name for folder_name in folder_names):\n",
    "\n",
    "            for file_name in zf.namelist():\n",
    "                if file_name.lower().startswith('deleted/'):\n",
    "                    with zf.open(file_name, 'r') as txt_file:\n",
    "                        case_ids = [line.decode('utf-8').strip() for line in txt_file]\n",
    "                        deleted_case_ids.extend(case_ids)\n",
    "\n",
    "\n",
    "            deleted_case_counts[zip_file] = len(case_ids)\n",
    "\n",
    "\n",
    "deleted_case_ids = list(set(deleted_case_ids))\n",
    "\n",
    "print(\"\\remove case ID:\")\n",
    "for zip_file, count in deleted_case_counts.items():\n",
    "    print(f\"ZIP file: {zip_file}, remove case IDs: {count}\")"
   ]
  },
  {
   "cell_type": "code",
   "execution_count": null,
   "id": "feb9e9f1",
   "metadata": {},
   "outputs": [],
   "source": [
    "#pickle.dump(deleted_case_ids,open('./deleted_case_ids,pkl','wb'))"
   ]
  },
  {
   "cell_type": "markdown",
   "id": "85ec77fd",
   "metadata": {},
   "source": [
    "## 2. Deduplication\n",
    "### 2-1. retain last report"
   ]
  },
  {
   "cell_type": "code",
   "execution_count": null,
   "id": "984fc3c9",
   "metadata": {},
   "outputs": [],
   "source": [
    "demo.sort_values(by=['caseid','caseversion'],ascending=False,inplace=True)\n",
    "demo.reset_index(drop=True, inplace=True)"
   ]
  },
  {
   "cell_type": "code",
   "execution_count": null,
   "id": "387dd5e2",
   "metadata": {},
   "outputs": [],
   "source": [
    "print(demo.shape[0])\n",
    "print(demo['caseid'].nunique())"
   ]
  },
  {
   "cell_type": "code",
   "execution_count": null,
   "id": "a5935cd8",
   "metadata": {},
   "outputs": [],
   "source": [
    "demo.drop_duplicates(subset=['caseid'],keep='first',inplace=True)\n",
    "demo.reset_index(drop=True,inplace=True)\n",
    "print(demo.shape[0])\n",
    "print(demo['caseid'].nunique())"
   ]
  },
  {
   "cell_type": "code",
   "execution_count": null,
   "id": "1706da34",
   "metadata": {},
   "outputs": [],
   "source": [
    "temp = demo['caseid'].nunique()"
   ]
  },
  {
   "cell_type": "markdown",
   "id": "8d69079b",
   "metadata": {},
   "source": [
    "### 2-2. Remove erroneous cases"
   ]
  },
  {
   "cell_type": "code",
   "execution_count": null,
   "id": "2a0bd6c4",
   "metadata": {},
   "outputs": [],
   "source": [
    "int_converted_deleted_case_ids = [int(caseid) for caseid in deleted_case_ids if caseid]"
   ]
  },
  {
   "cell_type": "code",
   "execution_count": null,
   "id": "1180e64f",
   "metadata": {},
   "outputs": [],
   "source": [
    "temp = len(int_converted_deleted_case_ids)"
   ]
  },
  {
   "cell_type": "code",
   "execution_count": null,
   "id": "a154596e",
   "metadata": {},
   "outputs": [],
   "source": [
    "temp = demo.query('caseid in @int_converted_deleted_case_ids').shape[0]"
   ]
  },
  {
   "cell_type": "code",
   "execution_count": null,
   "id": "1c4252cd",
   "metadata": {},
   "outputs": [],
   "source": [
    "demo = demo.query('caseid not in @int_converted_deleted_case_ids').reset_index(drop=True)"
   ]
  },
  {
   "cell_type": "code",
   "execution_count": null,
   "id": "2fa75933",
   "metadata": {},
   "outputs": [],
   "source": [
    "temp = demo['caseid'].nunique()"
   ]
  },
  {
   "cell_type": "markdown",
   "id": "d5b83fcc",
   "metadata": {},
   "source": [
    "### 2-3. deduplication\n",
    "- the same reporting country, gender, event date, age, adverse events, and drugs prescribed"
   ]
  },
  {
   "cell_type": "markdown",
   "id": "8958ea2e",
   "metadata": {},
   "source": [
    "#### 2-3-1. Age conversion"
   ]
  },
  {
   "cell_type": "code",
   "execution_count": null,
   "id": "8d5664d5",
   "metadata": {},
   "outputs": [],
   "source": [
    "demo.shape"
   ]
  },
  {
   "cell_type": "code",
   "execution_count": null,
   "id": "aa359a0f",
   "metadata": {},
   "outputs": [],
   "source": [
    "demo = demo[pd.to_numeric(demo['age'], errors='coerce').notnull()].reset_index(drop=True)\n",
    "\n",
    "conditions = [\n",
    "    demo['age_cod'].eq('DEC'), demo['age_cod'].eq('YR'),demo['age_cod'].eq('YEAR'), demo['age_cod'].eq('MON'), \n",
    "    demo['age_cod'].eq('WK'), demo['age_cod'].eq('WEEK'), demo['age_cod'].eq('DY'), demo['age_cod'].eq('DAY'),\n",
    "    demo['age_cod'].eq('HR'), demo['age_cod'].eq('HOUR')\n",
    "]\n",
    "choices = [\n",
    "    np.where(demo['age'].astype(float) <= 10, np.round(demo['age'].astype(float)*10, 2), np.round(demo['age'], 2)), # DEC\n",
    "    np.round(demo['age'], 2), np.round(demo['age'], 2), \n",
    "    np.round(demo['age'].astype(float)/12, 2), np.round(demo['age'].astype(float)/52, 2), np.round(demo['age'].astype(float)/52, 2), \n",
    "    np.round(demo['age'].astype(float)/365, 2), np.round(demo['age'].astype(float)/365, 2), np.round(demo['age'].astype(float)/8760, 2),\n",
    "    np.round(demo['age'].astype(float)/8760, 2)\n",
    "]\n",
    "demo['age_yr'] = np.select(conditions, choices, default=demo['age'])"
   ]
  },
  {
   "cell_type": "code",
   "execution_count": null,
   "id": "04bfcb9d",
   "metadata": {},
   "outputs": [],
   "source": [
    "temp = demo['caseid'].nunique()"
   ]
  },
  {
   "cell_type": "code",
   "execution_count": null,
   "id": "31c370df",
   "metadata": {},
   "outputs": [],
   "source": [
    "demo = demo.query('age_yr > 0').reset_index(drop=True)"
   ]
  },
  {
   "cell_type": "code",
   "execution_count": null,
   "id": "703c8fc6",
   "metadata": {},
   "outputs": [],
   "source": [
    "Q1 = demo['age_yr'].quantile(0.25)\n",
    "Q3 = demo['age_yr'].quantile(0.75)\n",
    "IQR = Q3 - Q1\n",
    "\n",
    "lower_bound = Q1 - 1.5 * IQR\n",
    "print(lower_bound)\n",
    "upper_bound = Q3 + 1.5 * IQR\n",
    "print(upper_bound)\n",
    "\n",
    "demo = demo.query('age_yr >= @lower_bound and age_yr <= @upper_bound').reset_index(drop=True)"
   ]
  },
  {
   "cell_type": "code",
   "execution_count": null,
   "id": "dc2bad17",
   "metadata": {},
   "outputs": [],
   "source": [
    "temp = demo['caseid'].nunique()"
   ]
  },
  {
   "cell_type": "code",
   "execution_count": null,
   "id": "d71e1138",
   "metadata": {},
   "outputs": [],
   "source": [
    "pid_set = set(demo['primaryid'])\n",
    "\n",
    "drug = drug.query('primaryid in @pid_set').reset_index(drop=True)\n",
    "ther = ther.query('primaryid in @pid_set').reset_index(drop=True)\n",
    "reac = reac.query('primaryid in @pid_set').reset_index(drop=True)\n",
    "outc = outc.query('primaryid in @pid_set').reset_index(drop=True)\n",
    "indi = indi.query('primaryid in @pid_set').reset_index(drop=True)\n",
    "rpsr = rpsr.query('primaryid in @pid_set').reset_index(drop=True)"
   ]
  },
  {
   "cell_type": "markdown",
   "id": "db896e82",
   "metadata": {},
   "source": [
    "### 2-3-2. deduplication\n",
    "- the same reporting country, gender, event date, age, adverse events, and drugs prescribed"
   ]
  },
  {
   "cell_type": "code",
   "execution_count": null,
   "id": "7157f4f8",
   "metadata": {},
   "outputs": [],
   "source": [
    "pt_to_int_dict = {pt: idx + 1 for idx, pt in enumerate(reac['pt'].unique())}\n",
    "\n",
    "def map_pt_to_int(group):\n",
    "    return [pt_to_int_dict.get(pt, 0) for pt in group]\n",
    "\n",
    "reac_grouped = reac.groupby('caseid')['pt'].apply(map_pt_to_int).reset_index()\n",
    "reac_grouped.columns = ['caseid', 'pt_int_values']\n",
    "\n",
    "reac_grouped['pt_int_values'] = reac_grouped['pt_int_values'].apply(lambda lst: sorted(set(lst)))"
   ]
  },
  {
   "cell_type": "code",
   "execution_count": null,
   "id": "29108ca5",
   "metadata": {},
   "outputs": [],
   "source": [
    "drug['new_drug'] = drug['drugname'].fillna(drug['prod_ai']).astype(str)\n",
    "\n",
    "drugname_to_int_dict = {new_drug: idx + 1 for idx, new_drug in enumerate(drug['new_drug'].unique())}\n",
    "def map_drug_to_int(group):\n",
    "    return [drugname_to_int_dict.get(new_drug, 0) for new_drug in group]\n",
    "\n",
    "drug_grouped = drug.groupby('caseid')['new_drug'].apply(map_drug_to_int).reset_index()\n",
    "drug_grouped.columns = ['caseid', 'drug_int_values']\n",
    "\n",
    "drug_grouped['drug_int_values'] = drug_grouped['drug_int_values'].apply(lambda lst: sorted(set(lst)))"
   ]
  },
  {
   "cell_type": "code",
   "execution_count": null,
   "id": "cbb7668f",
   "metadata": {},
   "outputs": [],
   "source": [
    "df_merged = pd.merge(demo[['primaryid','caseid','age_yr','reporter_country','sex','event_dt']], drug_grouped, on='caseid')\n",
    "df_merged = pd.merge(df_merged, reac_grouped, on='caseid')"
   ]
  },
  {
   "cell_type": "code",
   "execution_count": null,
   "id": "3311aa53",
   "metadata": {},
   "outputs": [],
   "source": [
    "def list_to_string(lst):\n",
    "    return ', '.join(map(str, lst))\n",
    "\n",
    "df_merged['drug_int_values'] = df_merged['drug_int_values'].apply(list_to_string)\n",
    "df_merged['pt_int_values'] = df_merged['pt_int_values'].apply(list_to_string)"
   ]
  },
  {
   "cell_type": "code",
   "execution_count": null,
   "id": "eb0be520",
   "metadata": {},
   "outputs": [],
   "source": [
    "df_merged['reporter_country'].fillna('NAN', inplace=True)\n",
    "df_merged['sex'].fillna('NAN', inplace=True)\n",
    "df_merged['event_dt'].fillna(99999999, inplace=True)"
   ]
  },
  {
   "cell_type": "code",
   "execution_count": null,
   "id": "f87e3071",
   "metadata": {},
   "outputs": [],
   "source": [
    "grouped_df = df_merged.groupby(['age_yr', 'reporter_country', 'sex', 'event_dt', 'drug_int_values', 'pt_int_values'])['caseid'].agg(list).reset_index()\n",
    "duplicated_combinations = grouped_df[grouped_df['caseid'].apply(len) > 1]"
   ]
  },
  {
   "cell_type": "code",
   "execution_count": null,
   "id": "0452762a",
   "metadata": {},
   "outputs": [],
   "source": [
    "duplicated_combinations['max_caseid'] = duplicated_combinations['caseid'].apply(max)\n",
    "caseids_to_delete = []\n",
    "\n",
    "for index, row in duplicated_combinations.iterrows():\n",
    "    caseids = row['caseid']\n",
    "    max_caseid = row['max_caseid']\n",
    "    remaining_caseids = [caseid for caseid in caseids if caseid != max_caseid]\n",
    "    caseids_to_delete.extend(remaining_caseids)"
   ]
  },
  {
   "cell_type": "code",
   "execution_count": null,
   "id": "dc7da215",
   "metadata": {},
   "outputs": [],
   "source": [
    "demo = demo.query('caseid not in @caseids_to_delete').reset_index(drop=True)"
   ]
  },
  {
   "cell_type": "code",
   "execution_count": null,
   "id": "b742e047",
   "metadata": {},
   "outputs": [],
   "source": [
    "pid_set = set(demo['primaryid'])\n",
    "\n",
    "drug = drug.query('primaryid in @pid_set').reset_index(drop=True)\n",
    "ther = ther.query('primaryid in @pid_set').reset_index(drop=True)\n",
    "reac = reac.query('primaryid in @pid_set').reset_index(drop=True)\n",
    "outc = outc.query('primaryid in @pid_set').reset_index(drop=True)\n",
    "indi = indi.query('primaryid in @pid_set').reset_index(drop=True)\n",
    "rpsr = rpsr.query('primaryid in @pid_set').reset_index(drop=True)"
   ]
  },
  {
   "cell_type": "code",
   "execution_count": null,
   "id": "5c83b008",
   "metadata": {},
   "outputs": [],
   "source": [
    "temp = demo['caseid'].nunique()"
   ]
  },
  {
   "cell_type": "markdown",
   "id": "6ee8055f",
   "metadata": {},
   "source": [
    "### save"
   ]
  },
  {
   "cell_type": "code",
   "execution_count": null,
   "id": "e953a28b",
   "metadata": {},
   "outputs": [],
   "source": [
    "demo.to_csv('./clean_step1_demo.csv.gz',index=False)\n",
    "drug.to_csv('./clean_step1_drug.csv.gz',index=False)\n",
    "indi.to_csv('./clean_step1_indi.csv.gz',index=False)\n",
    "outc.to_csv('./clean_step1_outc.csv.gz',index=False)\n",
    "reac.to_csv('./clean_step1_reac.csv.gz',index=False)\n",
    "rpsr.to_csv('./clean_step1_rpsr.csv.gz',index=False)\n",
    "ther.to_csv('./clean_step1_ther.csv.gz',index=False)"
   ]
  },
  {
   "cell_type": "markdown",
   "id": "bb55c288",
   "metadata": {},
   "source": [
    "#### key refs: https://github.com/Judenpech/FAERS-data-toolkit/blob/master/faersPreprocess.py"
   ]
  }
 ],
 "metadata": {
  "kernelspec": {
   "display_name": "Python 3 (ipykernel)",
   "language": "python",
   "name": "python3"
  },
  "language_info": {
   "codemirror_mode": {
    "name": "ipython",
    "version": 3
   },
   "file_extension": ".py",
   "mimetype": "text/x-python",
   "name": "python",
   "nbconvert_exporter": "python",
   "pygments_lexer": "ipython3",
   "version": "3.7.11"
  }
 },
 "nbformat": 4,
 "nbformat_minor": 5
}
